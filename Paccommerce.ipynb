{
 "cells": [
  {
   "cell_type": "markdown",
   "id": "2f21e58f",
   "metadata": {},
   "source": [
    "# Case II : Customer Membership\n",
    "Pertemuan 13 - 14 Python - Sekolah Data - Pacmann Academy"
   ]
  },
  {
   "cell_type": "markdown",
   "id": "cec2f2e7",
   "metadata": {},
   "source": [
    "#### Membership Table "
   ]
  },
  {
   "cell_type": "markdown",
   "id": "b6c94b4e",
   "metadata": {},
   "source": [
    "| **Membership** | **Discount** |                     **Another Benefit**                     |\n",
    "|:--------------:|:------------:|:-----------------------------------------------------------:|\n",
    "|    Platinum    |      15%     | Benefit Silver + Gold + Voucher Liburan + Cashback max. 30% |\n",
    "|      Gold      |      10%     | Benefit Silver + Voucher Ojek Online                        |\n",
    "|     Silver     |      8%      | Voucher Makanan                                             |"
   ]
  },
  {
   "cell_type": "markdown",
   "id": "37741902",
   "metadata": {},
   "source": [
    "#### Requirements Membership Table "
   ]
  },
  {
   "cell_type": "markdown",
   "id": "bad50308",
   "metadata": {},
   "source": [
    "| **Membership** | **Monthly Expense (juta)** | **Monthly Income (juta)** |\n",
    "|:--------------:|:--------------------------:|:-------------------------:|\n",
    "|    Platinum    |              8             | 15                        |\n",
    "|      Gold      |              6             | 10                        |\n",
    "|     Silver     |              5             | 7                         |"
   ]
  },
  {
   "cell_type": "markdown",
   "id": "57f3affd",
   "metadata": {},
   "source": [
    "### Features List\n",
    "- [ ] `show_benefit()` --> show all membership benefit (table 1)\n",
    "- [ ] `show_requirements()` --> show all requirements untuk menjadi membership (table 2)\n",
    "- [ ] `predict_membership(monthly_expense, monthly_income)` --> memprediksi user akan masuk ke dalam membership mana berdasarkan input parameter dan parameter masing - masing membership\n",
    "- [ ] `calculate_price(membership, list_harga_barang)` --> menghitung final price yang harus dibayarkan, terus akan mendapatkan diskon sesuai dengan ketentuan membership"
   ]
  },
  {
   "cell_type": "markdown",
   "id": "1fc366c9",
   "metadata": {},
   "source": [
    "### Import Library "
   ]
  },
  {
   "cell_type": "code",
   "execution_count": 1,
   "id": "c6412e3f",
   "metadata": {},
   "outputs": [],
   "source": [
    "# untuk membuat table\n",
    "from tabulate import tabulate\n",
    "\n",
    "# square root, untuk menghitung euclidean distance\n",
    "from math import sqrt"
   ]
  },
  {
   "cell_type": "markdown",
   "id": "ae43a39f",
   "metadata": {},
   "source": [
    "### Create Membership Class \n",
    "\n",
    "Data yang harus dibuat Username dan Membership untuk existing user:\n",
    "- Sumbul: Platinum\n",
    "- Ana: Gold\n",
    "- Cahya: Platinum"
   ]
  },
  {
   "cell_type": "code",
   "execution_count": 82,
   "id": "d6c3faed",
   "metadata": {},
   "outputs": [],
   "source": [
    "# Create a OOP to solve the problem\n",
    "class Membership:\n",
    "    \n",
    "    # inisialisasi data\n",
    "    data = {\n",
    "        \"Sumbul\": \"Platinum\",\n",
    "        \"Ana\": \"Gold\",\n",
    "        \"Cahya\": \"Platinum\"\n",
    "    }\n",
    "    # inisialisai attribute\n",
    "    def __init__(self,username):\n",
    "        self.username = username\n",
    "        \n",
    "    # method untuk menampilkan benefit membership\n",
    "    def show_benefit(self):\n",
    "        table = [[ 'Platinum','15%','Benefit Silver + Gold + Voucher Liburan + Cashback max. 30%'],\n",
    "                ['Gold','10%','Benefit Silver + Voucher Ojek Online'],\n",
    "                 ['Silver','8%','Voucher Makanan']\n",
    "                ]\n",
    "        header = ['Membership','Discount','Another Benefit']\n",
    "        \n",
    "        print('Membership Table')\n",
    "        print('')\n",
    "        print(tabulate(table,header,tablefmt='github'))\n",
    "    # method untuk menampilkan requirements membership\n",
    "    def show_requirements(self):\n",
    "        table1= [['Platinum',8,15],\n",
    "                ['Gold',6,10],\n",
    "                ['Silver',5,7]]\n",
    "        header1 = ['Membership','Monthly Expense (juta)','Monthly Income (juta)']\n",
    "        \n",
    "        print('Requirements Membership Table')\n",
    "        print('')\n",
    "        print(tabulate(table1,header1,tablefmt='github'))\n",
    "        \n",
    "    # method untuk melakukan prediksi membership\n",
    "    # menggunakan euclidean distance\n",
    "    def predict_membership(self,username,monthly_expense, monthly_income):\n",
    "        package =['Platinum','Gold','Silver']\n",
    "        basic_param = [[8,15],[6,10],[5,7]]\n",
    "        distance = []\n",
    "        \n",
    "        \n",
    "        for i in basic_param:\n",
    "            x = sqrt((monthly_expense - i[0])**2+(monthly_income - i[1])**2)\n",
    "            distance.append(x)\n",
    "            \n",
    "        package = {'Platinum':distance[0],\n",
    "                  'Gold':distance[1],\n",
    "                  'Silver':distance[2]}\n",
    "        \n",
    "        for key,value in package.items():\n",
    "            if value == min(distance):\n",
    "                print(f'Dear {self.username}, you are recomended to subscribe to {key}')\n",
    "                self.data[username] = key\n",
    "            \n",
    "                \n",
    "    def calculate_price(self,username,list_harga_barang):\n",
    "        if username in self.data:\n",
    "            if self.data.get(username) =='Platinum':\n",
    "                final_price = sum(list_harga_barang) - sum(list_harga_barang)*0.15\n",
    "                return print(f\"Final price for Member {username} is Rp{final_price}\")\n",
    "            elif self.data.get(username=='Gold'):\n",
    "                final_price = sum(list_harga_barang) - sum(list_harga_barang)*0.1\n",
    "                return print(f\"Final price for Member {username} is Rp{final_price}\")\n",
    "            elif self.data.get(username=='Silver'):\n",
    "                final_price= sum(list_harga_barang) - sum(list_harga_barang)*0.08\n",
    "                return print(f\"Final price for Member {username} is Rp{final_price}\")\n",
    "            else:\n",
    "                raise Exception('Membership are not on the list')\n",
    "            \n",
    "        else:\n",
    "            raise Exception('Username are not on the dataset')\n",
    "                \n",
    "  "
   ]
  },
  {
   "cell_type": "code",
   "execution_count": 83,
   "id": "820b36f1",
   "metadata": {},
   "outputs": [],
   "source": [
    "test1 = Membership('emir')"
   ]
  },
  {
   "cell_type": "code",
   "execution_count": 84,
   "id": "ffca5250",
   "metadata": {},
   "outputs": [
    {
     "data": {
      "text/plain": [
       "{'Sumbul': 'Platinum', 'Ana': 'Gold', 'Cahya': 'Platinum'}"
      ]
     },
     "execution_count": 84,
     "metadata": {},
     "output_type": "execute_result"
    }
   ],
   "source": [
    "test1.data"
   ]
  },
  {
   "cell_type": "code",
   "execution_count": 85,
   "id": "f64e10e8",
   "metadata": {},
   "outputs": [
    {
     "name": "stdout",
     "output_type": "stream",
     "text": [
      "Membership Table\n",
      "\n",
      "| Membership   | Discount   | Another Benefit                                             |\n",
      "|--------------|------------|-------------------------------------------------------------|\n",
      "| Platinum     | 15%        | Benefit Silver + Gold + Voucher Liburan + Cashback max. 30% |\n",
      "| Gold         | 10%        | Benefit Silver + Voucher Ojek Online                        |\n",
      "| Silver       | 8%         | Voucher Makanan                                             |\n"
     ]
    }
   ],
   "source": [
    "test1.show_benefit()"
   ]
  },
  {
   "cell_type": "code",
   "execution_count": 86,
   "id": "4550eab0",
   "metadata": {},
   "outputs": [
    {
     "name": "stdout",
     "output_type": "stream",
     "text": [
      "Requirements Membership Table\n",
      "\n",
      "| Membership   |   Monthly Expense (juta) |   Monthly Income (juta) |\n",
      "|--------------|--------------------------|-------------------------|\n",
      "| Platinum     |                        8 |                      15 |\n",
      "| Gold         |                        6 |                      10 |\n",
      "| Silver       |                        5 |                       7 |\n"
     ]
    }
   ],
   "source": [
    "test1.show_requirements()"
   ]
  },
  {
   "cell_type": "code",
   "execution_count": 87,
   "id": "2097cccf",
   "metadata": {},
   "outputs": [
    {
     "data": {
      "text/plain": [
       "'emir'"
      ]
     },
     "execution_count": 87,
     "metadata": {},
     "output_type": "execute_result"
    }
   ],
   "source": [
    "test1.username"
   ]
  },
  {
   "cell_type": "code",
   "execution_count": 88,
   "id": "694bc952",
   "metadata": {},
   "outputs": [
    {
     "name": "stdout",
     "output_type": "stream",
     "text": [
      "Dear emir, you are recomended to subscribe to Platinum\n"
     ]
    }
   ],
   "source": [
    "test1.predict_membership(username = test1.username,monthly_expense=10, monthly_income=15)"
   ]
  },
  {
   "cell_type": "code",
   "execution_count": 92,
   "id": "15fa81df",
   "metadata": {},
   "outputs": [
    {
     "name": "stdout",
     "output_type": "stream",
     "text": [
      "Final price for Member emir is Rp85000.0\n"
     ]
    }
   ],
   "source": [
    "test1.calculate_price(username = test1.username,list_harga_barang=[10_000,40_000,30_000,20_000])"
   ]
  },
  {
   "cell_type": "code",
   "execution_count": null,
   "id": "668561b0",
   "metadata": {},
   "outputs": [],
   "source": []
  }
 ],
 "metadata": {
  "kernelspec": {
   "display_name": "Python 3 (ipykernel)",
   "language": "python",
   "name": "python3"
  },
  "language_info": {
   "codemirror_mode": {
    "name": "ipython",
    "version": 3
   },
   "file_extension": ".py",
   "mimetype": "text/x-python",
   "name": "python",
   "nbconvert_exporter": "python",
   "pygments_lexer": "ipython3",
   "version": "3.9.7"
  }
 },
 "nbformat": 4,
 "nbformat_minor": 5
}
